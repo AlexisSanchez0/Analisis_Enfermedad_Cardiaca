{
  "nbformat": 4,
  "nbformat_minor": 0,
  "metadata": {
    "colab": {
      "provenance": [],
      "toc_visible": true
    },
    "kernelspec": {
      "name": "python3",
      "display_name": "Python 3"
    },
    "language_info": {
      "name": "python"
    }
  },
  "cells": [
    {
      "cell_type": "markdown",
      "source": [
        "# 1. PASO 1: CONFIGURACIÓN Y CARGA DE DATOS"
      ],
      "metadata": {
        "id": "edYGMIfNYHMv"
      }
    },
    {
      "cell_type": "code",
      "execution_count": 1,
      "metadata": {
        "colab": {
          "base_uri": "https://localhost:8080/"
        },
        "id": "YYYPxqIr4Qov",
        "outputId": "2f76de88-9a50-4b7d-a874-8cf1f8f363fa"
      },
      "outputs": [
        {
          "output_type": "stream",
          "name": "stdout",
          "text": [
            "Collecting ucimlrepo\n",
            "  Downloading ucimlrepo-0.0.7-py3-none-any.whl.metadata (5.5 kB)\n",
            "Requirement already satisfied: pandas>=1.0.0 in /usr/local/lib/python3.12/dist-packages (from ucimlrepo) (2.2.2)\n",
            "Requirement already satisfied: certifi>=2020.12.5 in /usr/local/lib/python3.12/dist-packages (from ucimlrepo) (2025.10.5)\n",
            "Requirement already satisfied: numpy>=1.26.0 in /usr/local/lib/python3.12/dist-packages (from pandas>=1.0.0->ucimlrepo) (2.0.2)\n",
            "Requirement already satisfied: python-dateutil>=2.8.2 in /usr/local/lib/python3.12/dist-packages (from pandas>=1.0.0->ucimlrepo) (2.9.0.post0)\n",
            "Requirement already satisfied: pytz>=2020.1 in /usr/local/lib/python3.12/dist-packages (from pandas>=1.0.0->ucimlrepo) (2025.2)\n",
            "Requirement already satisfied: tzdata>=2022.7 in /usr/local/lib/python3.12/dist-packages (from pandas>=1.0.0->ucimlrepo) (2025.2)\n",
            "Requirement already satisfied: six>=1.5 in /usr/local/lib/python3.12/dist-packages (from python-dateutil>=2.8.2->pandas>=1.0.0->ucimlrepo) (1.17.0)\n",
            "Downloading ucimlrepo-0.0.7-py3-none-any.whl (8.0 kB)\n",
            "Installing collected packages: ucimlrepo\n",
            "Successfully installed ucimlrepo-0.0.7\n"
          ]
        }
      ],
      "source": [
        "# 1. INSTALACIÓN DE LIBRERÍA UCI\n",
        "!pip install ucimlrepo\n",
        "\n",
        "# 2. IMPORTACIÓN DE LIBRERÍAS\n",
        "import pandas as pd\n",
        "import numpy as np\n",
        "import matplotlib.pyplot as plt\n",
        "\n",
        "# Para descargar datos de UCI\n",
        "from ucimlrepo import fetch_ucirepo, list_available_datasets\n",
        "\n",
        "# 3. DESACTIVAR ADVERTENCIAS\n",
        "# Esto ayuda a que se vea más limpio al ejecutar algunas transformaciones de Pandas\n",
        "import warnings\n",
        "warnings.filterwarnings('ignore')"
      ]
    },
    {
      "cell_type": "code",
      "source": [
        "# --- Carga y Exploración del Dataset ---\n",
        "\n",
        "# Importar el dataset de Enfermedad Cardíaca (ID 45)\n",
        "heart_disease = fetch_ucirepo(id=45)\n",
        "\n",
        "# Acceder a las características (X) y el objetivo (y)\n",
        "X = heart_disease.data.features\n",
        "y = heart_disease.data.targets\n",
        "\n",
        "# Crear el DataFrame principal (df) combinando X e y\n",
        "df = pd.concat([X, y], axis=1)\n",
        "\n",
        "# --- Impresión de Metadatos ---\n",
        "print(\"--- METADATOS DEL DATASET ---\")\n",
        "print(f\"ID de UCI: {heart_disease.metadata.uci_id}\")\n",
        "print(f\"Número de Instancias (Filas): {heart_disease.metadata.num_instances}\")\n",
        "\n",
        "print(\"\\n--- INFORMACIÓN DE VARIABLES (Variable Info) ---\")\n",
        "# Esto nos ayuda a entender qué significa cada columna.\n",
        "print(heart_disease.variables[['name', 'role', 'description', 'units']])\n",
        "\n",
        "print(\"\\nPrimeras 5 filas del DataFrame de Trabajo:\")\n",
        "print(df.head())"
      ],
      "metadata": {
        "colab": {
          "base_uri": "https://localhost:8080/"
        },
        "id": "LMKTIxoX70N3",
        "outputId": "92d00564-e9fd-4a21-8fe3-be46be886819"
      },
      "execution_count": 2,
      "outputs": [
        {
          "output_type": "stream",
          "name": "stdout",
          "text": [
            "--- METADATOS DEL DATASET ---\n",
            "ID de UCI: 45\n",
            "Número de Instancias (Filas): 303\n",
            "\n",
            "--- INFORMACIÓN DE VARIABLES (Variable Info) ---\n",
            "        name     role                                        description  \\\n",
            "0        age  Feature                                               None   \n",
            "1        sex  Feature                                               None   \n",
            "2         cp  Feature                                               None   \n",
            "3   trestbps  Feature  resting blood pressure (on admission to the ho...   \n",
            "4       chol  Feature                                  serum cholestoral   \n",
            "5        fbs  Feature                    fasting blood sugar > 120 mg/dl   \n",
            "6    restecg  Feature                                               None   \n",
            "7    thalach  Feature                        maximum heart rate achieved   \n",
            "8      exang  Feature                            exercise induced angina   \n",
            "9    oldpeak  Feature  ST depression induced by exercise relative to ...   \n",
            "10     slope  Feature                                               None   \n",
            "11        ca  Feature  number of major vessels (0-3) colored by flour...   \n",
            "12      thal  Feature                                               None   \n",
            "13       num   Target                         diagnosis of heart disease   \n",
            "\n",
            "    units  \n",
            "0   years  \n",
            "1    None  \n",
            "2    None  \n",
            "3   mm Hg  \n",
            "4   mg/dl  \n",
            "5    None  \n",
            "6    None  \n",
            "7    None  \n",
            "8    None  \n",
            "9    None  \n",
            "10   None  \n",
            "11   None  \n",
            "12   None  \n",
            "13   None  \n",
            "\n",
            "Primeras 5 filas del DataFrame de Trabajo:\n",
            "   age  sex  cp  trestbps  chol  fbs  restecg  thalach  exang  oldpeak  slope  \\\n",
            "0   63    1   1       145   233    1        2      150      0      2.3      3   \n",
            "1   67    1   4       160   286    0        2      108      1      1.5      2   \n",
            "2   67    1   4       120   229    0        2      129      1      2.6      2   \n",
            "3   37    1   3       130   250    0        0      187      0      3.5      3   \n",
            "4   41    0   2       130   204    0        2      172      0      1.4      1   \n",
            "\n",
            "    ca  thal  num  \n",
            "0  0.0   6.0    0  \n",
            "1  3.0   3.0    2  \n",
            "2  2.0   7.0    1  \n",
            "3  0.0   3.0    0  \n",
            "4  0.0   3.0    0  \n"
          ]
        }
      ]
    },
    {
      "cell_type": "markdown",
      "source": [
        "# 2. PASO 2: LIMPIEZA Y PREPARACIÓN"
      ],
      "metadata": {
        "id": "vOO-g-l1YViM"
      }
    },
    {
      "cell_type": "code",
      "source": [
        "print(\"--- VALORES FALTANTES (NaN) POR COLUMNA ANTES DE LA LIMPIEZA ---\")\n",
        "print(df.isnull().sum())\n",
        "print(\"-\" * 50)\n",
        "\n",
        "# 1. Tratamiento de Nulos\n",
        "# práctica que sirve para ELIMINAR estas filas para no introducir sesgo en variables clínicas cruciales.\n",
        "df_clean = df.dropna().copy() # Usamos .copy() para evitar SettingWithCopyWarning\n",
        "\n",
        "# 2. Verificación\n",
        "print(f\"Filas originales: {len(df)}\")\n",
        "print(f\"Filas después de la limpieza: {len(df_clean)}\")\n",
        "print(f\"Total de valores faltantes restantes: {df_clean.isnull().sum().sum()}\")"
      ],
      "metadata": {
        "colab": {
          "base_uri": "https://localhost:8080/"
        },
        "id": "rIJTM2-N-YJD",
        "outputId": "9349f734-df8b-4508-c2bd-8ce6ae097d51"
      },
      "execution_count": 18,
      "outputs": [
        {
          "output_type": "stream",
          "name": "stdout",
          "text": [
            "--- VALORES FALTANTES (NaN) POR COLUMNA ANTES DE LA LIMPIEZA ---\n",
            "age         0\n",
            "sex         0\n",
            "cp          0\n",
            "trestbps    0\n",
            "chol        0\n",
            "fbs         0\n",
            "restecg     0\n",
            "thalach     0\n",
            "exang       0\n",
            "oldpeak     0\n",
            "slope       0\n",
            "ca          4\n",
            "thal        2\n",
            "num         0\n",
            "dtype: int64\n",
            "--------------------------------------------------\n",
            "Filas originales: 303\n",
            "Filas después de la limpieza: 297\n",
            "Total de valores faltantes restantes: 0\n"
          ]
        }
      ]
    },
    {
      "cell_type": "code",
      "source": [
        "# La columna 'num' es la variable objetivo: 0, 1, 2, 3, 4.\n",
        "# Queremos una variable binaria para simplificar: 0 (No Enfermedad), 1 (Sí Enfermedad).\n",
        "\n",
        "# Aplicación de función LAMBDA:\n",
        "df_clean['heart_disease'] = df_clean['num'].apply(lambda x: 1 if x > 0 else 0)\n",
        "\n",
        "print(\"\\nConteo de la nueva variable 'heart_disease':\")\n",
        "# Usamos value_counts() para ver el balance de la clase\n",
        "print(df_clean['heart_disease'].value_counts())\n",
        "print(\"\\nEl 0 es 'Sano', el 1 es 'Enfermo'.\")"
      ],
      "metadata": {
        "colab": {
          "base_uri": "https://localhost:8080/"
        },
        "id": "NKyGJ14R_j1Y",
        "outputId": "d900929f-1b0b-40f3-b85d-367fdb16fb7d"
      },
      "execution_count": 4,
      "outputs": [
        {
          "output_type": "stream",
          "name": "stdout",
          "text": [
            "\n",
            "Conteo de la nueva variable 'heart_disease':\n",
            "heart_disease\n",
            "0    160\n",
            "1    137\n",
            "Name: count, dtype: int64\n",
            "\n",
            "El 0 es 'Sano', el 1 es 'Enfermo'.\n"
          ]
        }
      ]
    },
    {
      "cell_type": "markdown",
      "source": [
        "# 3. PASO 3: TRANSFORMACIONES Y AGRUPACIONES"
      ],
      "metadata": {
        "id": "70sa2uyGYrLW"
      }
    },
    {
      "cell_type": "code",
      "source": [
        "# 1. Columna de Presión Arterial (Hypertension)\n",
        "# Usamos un umbral clínico: > 140 mmHg para el límite superior de presión en reposo (trestbps)\n",
        "df_clean['hypertension'] = np.where(df_clean['trestbps'] > 140, 1, 0)\n",
        "\n",
        "# 2. Riesgo de Colesterol (Mediana)\n",
        "# Usaremos la mediana como punto de referencia para clasificar el colesterol\n",
        "median_chol = df_clean['chol'].median()\n",
        "\n",
        "# Usamos np.where() (NumPy) para una evaluación condicional eficiente\n",
        "df_clean['high_chol_risk'] = np.where(df_clean['chol'] > median_chol, 1, 0)\n",
        "\n",
        "print(f\"\\nMediana de Colesterol (Punto de Corte): {median_chol:.1f}\")\n",
        "print(\"Conteo de Pacientes con Colesterol por encima del promedio (1=Sí):\")\n",
        "print(df_clean['high_chol_risk'].value_counts())"
      ],
      "metadata": {
        "colab": {
          "base_uri": "https://localhost:8080/"
        },
        "id": "OVCe1brrAY0p",
        "outputId": "0a4d655f-5ba6-4587-a4cc-25c0e3c81d16"
      },
      "execution_count": 5,
      "outputs": [
        {
          "output_type": "stream",
          "name": "stdout",
          "text": [
            "\n",
            "Mediana de Colesterol (Punto de Corte): 243.0\n",
            "Conteo de Pacientes con Colesterol por encima del promedio (1=Sí):\n",
            "high_chol_risk\n",
            "0    152\n",
            "1    145\n",
            "Name: count, dtype: int64\n"
          ]
        }
      ]
    },
    {
      "cell_type": "code",
      "source": [
        "# 1. Agrupación de Edad\n",
        "def age_group_category_expanded(age):\n",
        "    \"\"\"Clasifica la edad en 5 grupos.\"\"\"\n",
        "    if age < 40:\n",
        "        return '1. Joven (<40)'\n",
        "    elif age < 50:\n",
        "        return '2. Mediana Edad (40-49)'\n",
        "    elif age < 60:\n",
        "        return '3. Adulto (50-59)'\n",
        "    elif age < 70:\n",
        "        return '4. Adulto Mayor (60-69)'\n",
        "    else:\n",
        "        return '5. Tercera Edad (70+)'\n",
        "\n",
        "df_clean['age_group_5'] = df_clean['age'].apply(age_group_category_expanded)\n",
        "\n",
        "# 2. Agrupación del Ritmo Cardíaco Máximo (thalach)\n",
        "# Usamos la mediana y el máximo para crear categorías\n",
        "max_thalach_median = df_clean['thalach'].median()\n",
        "max_thalach_max = df_clean['thalach'].max()\n",
        "\n",
        "df_clean['thalach_category'] = pd.cut(\n",
        "    df_clean['thalach'],\n",
        "    bins=[0, max_thalach_median, max_thalach_max + 1], # +1 para incluir el valor máximo\n",
        "    labels=['Bajo/Medio', 'Alto'],\n",
        "    right=False # No incluye el borde inferior, incluye el superior\n",
        ")\n",
        "\n",
        "print(\"\\nConteo de Pacientes por 5 Grupos de Edad:\")\n",
        "print(df_clean['age_group_5'].value_counts().sort_index())"
      ],
      "metadata": {
        "colab": {
          "base_uri": "https://localhost:8080/"
        },
        "id": "15SeUGzOBLTO",
        "outputId": "8d4e4f42-480a-4b38-e17e-02d1d11685ba"
      },
      "execution_count": 6,
      "outputs": [
        {
          "output_type": "stream",
          "name": "stdout",
          "text": [
            "\n",
            "Conteo de Pacientes por 5 Grupos de Edad:\n",
            "age_group_5\n",
            "1. Joven (<40)              14\n",
            "2. Mediana Edad (40-49)     71\n",
            "3. Adulto (50-59)          121\n",
            "4. Adulto Mayor (60-69)     81\n",
            "5. Tercera Edad (70+)       10\n",
            "Name: count, dtype: int64\n"
          ]
        }
      ]
    },
    {
      "cell_type": "code",
      "source": [
        "# Filtrado 1: Pacientes con Múltiples Riesgos (Hipertensión Y Colesterol Alto)\n",
        "df_multi_risk = df_clean[\n",
        "    (df_clean['hypertension'] == 1) &\n",
        "    (df_clean['high_chol_risk'] == 1)\n",
        "].copy()\n",
        "\n",
        "print(f\"\\nPacientes con Hipertensión Y Colesterol Alto: {len(df_multi_risk)}\")\n",
        "print(f\"Tasa de enfermedad en este subgrupo: {df_multi_risk['heart_disease'].mean():.2f}\")\n",
        "\n",
        "# Filtrado 2: Mujeres (sex=0) con Ritmo Cardíaco Máximo Alto\n",
        "df_women_high_thalach = df_clean[\n",
        "    (df_clean['sex'] == 0) &\n",
        "    (df_clean['thalach_category'] == 'Alto')\n",
        "].copy()\n",
        "\n",
        "print(f\"Mujeres con Ritmo Cardíaco Máximo Alto: {len(df_women_high_thalach)}\")"
      ],
      "metadata": {
        "colab": {
          "base_uri": "https://localhost:8080/"
        },
        "id": "z49T1sxkCEy2",
        "outputId": "10ff86b7-9397-49d1-ae68-db929190b505"
      },
      "execution_count": 7,
      "outputs": [
        {
          "output_type": "stream",
          "name": "stdout",
          "text": [
            "\n",
            "Pacientes con Hipertensión Y Colesterol Alto: 35\n",
            "Tasa de enfermedad en este subgrupo: 0.66\n",
            "Mujeres con Ritmo Cardíaco Máximo Alto: 54\n"
          ]
        }
      ]
    },
    {
      "cell_type": "markdown",
      "source": [
        "# 4. PASO 4: CONSOLIDACIÓN Y RESUMEN (TABLA PIVOTADA)"
      ],
      "metadata": {
        "id": "kX00XrG_Y-B0"
      }
    },
    {
      "cell_type": "code",
      "source": [
        "# PROPOSITO: Resumir estadísticamente el dataset agrupando por Edad y Sexo.\n",
        "#\n",
        "# \"Aquí está el resumen final. Agrupamos los datos por cada 'Grupo de Edad' y 'Sexo'\n",
        "# para calcular un montón de estadísticas: el total de pacientes, el rango de edad\n",
        "# (mínima/máxima), la Mediana del Colesterol, y lo más importante, la Tasa de Enfermedad.\"\n",
        "\n",
        "# Diccionario para mapear 'sex' a etiquetas\n",
        "sex_mapping = {1: 'Hombre', 0: 'Mujer'}\n",
        "\n",
        "# 1. Agrupación y Agregación:\n",
        "df_grouped_stats = df_clean.groupby(['age_group_5', 'sex']).agg(\n",
        "    # Métricas requeridas para el análisis\n",
        "    Total_Pacientes=('age', 'size'),\n",
        "    Edad_Min=('age', 'min'),\n",
        "    Edad_Max=('age', 'max'),\n",
        "    Edad_Promedio=('age', 'mean'),\n",
        "    Colesterol_Mediana=('chol', 'median'),\n",
        "    Tasa_Enfermedad=('heart_disease', 'mean')\n",
        ").reset_index()\n",
        "\n",
        "# 2. Mapear el sexo a texto para poder pivotar\n",
        "df_grouped_stats['sex'] = df_grouped_stats['sex'].map(sex_mapping)\n",
        "\n",
        "# 3. PIVOTAR la tabla: Mover 'sex' de las filas a las columnas.\n",
        "# \"Usamos df.pivot_table para evitar las filas duplicadas: movemos el 'sexo' a las\n",
        "# cabeceras de columna. Así se ve más limpio.\"\n",
        "df_pivot = df_grouped_stats.pivot_table(\n",
        "    index='age_group_5',\n",
        "    columns='sex',\n",
        "    # Incluimos Edad_Min y Edad_Max en los valores a pivotar\n",
        "    values=[\n",
        "        'Total_Pacientes', 'Edad_Min', 'Edad_Max',\n",
        "        'Colesterol_Mediana', 'Tasa_Enfermedad'\n",
        "    ]\n",
        ").reset_index()\n",
        "\n",
        "# 4. Limpieza de nombres de columnas\n",
        "# Aplanamos el MultiIndex y usamos snake_case\n",
        "df_pivot.columns = [\n",
        "    f'{col[0]}_{col[1]}' if col[1] else col[0]\n",
        "    for col in df_pivot.columns.values\n",
        "]\n",
        "df_pivot.rename(columns={'age_group_5': 'Grupo_de_Edad'}, inplace=True)\n",
        "\n",
        "# 5. Formatear la Tasa de Enfermedad como porcentaje\n",
        "# \"Al final, solo le damos formato a la Tasa de Enfermedad para que se vea como porcentaje.\"\n",
        "for col in ['Tasa_Enfermedad_Hombre', 'Tasa_Enfermedad_Mujer']:\n",
        "    df_pivot[f'{col}_%'] = (df_pivot[col] * 100).round(2)\n",
        "    df_pivot.drop(columns=col, inplace=True)\n",
        "\n",
        "print(\"\\n--- TABLA CONSOLIDADA COMPLETA ---\")\n",
        "# Mostramos la tabla solo con las métricas clave, redondeando a un decimal\n",
        "# y reemplazando los posibles valores nulos (donde no hay pacientes en ese grupo) con 0.\n",
        "print(df_pivot[['Grupo_de_Edad',\n",
        "                'Total_Pacientes_Hombre', 'Total_Pacientes_Mujer',\n",
        "                'Edad_Min_Hombre', 'Edad_Max_Hombre',\n",
        "                'Edad_Min_Mujer', 'Edad_Max_Mujer',\n",
        "                'Colesterol_Mediana_Hombre', 'Colesterol_Mediana_Mujer',\n",
        "                'Tasa_Enfermedad_Hombre_%', 'Tasa_Enfermedad_Mujer_%']].round(1).fillna(0))"
      ],
      "metadata": {
        "colab": {
          "base_uri": "https://localhost:8080/"
        },
        "id": "K-RBR8DXCkqs",
        "outputId": "a48d3a71-13a6-46d9-dd92-3b7039eddb14"
      },
      "execution_count": 17,
      "outputs": [
        {
          "output_type": "stream",
          "name": "stdout",
          "text": [
            "\n",
            "--- TABLA CONSOLIDADA COMPLETA ---\n",
            "             Grupo_de_Edad  Total_Pacientes_Hombre  Total_Pacientes_Mujer  \\\n",
            "0           1. Joven (<40)                     9.0                    5.0   \n",
            "1  2. Mediana Edad (40-49)                    52.0                   19.0   \n",
            "2        3. Adulto (50-59)                    88.0                   33.0   \n",
            "3  4. Adulto Mayor (60-69)                    47.0                   34.0   \n",
            "4    5. Tercera Edad (70+)                     5.0                    5.0   \n",
            "\n",
            "   Edad_Min_Hombre  Edad_Max_Hombre  Edad_Min_Mujer  Edad_Max_Mujer  \\\n",
            "0             29.0             39.0            34.0            39.0   \n",
            "1             40.0             49.0            41.0            49.0   \n",
            "2             50.0             59.0            50.0            59.0   \n",
            "3             60.0             69.0            60.0            69.0   \n",
            "4             70.0             77.0            71.0            76.0   \n",
            "\n",
            "   Colesterol_Mediana_Hombre  Colesterol_Mediana_Mujer  \\\n",
            "0                      219.0                     210.0   \n",
            "1                      235.0                     236.0   \n",
            "2                      234.0                     264.0   \n",
            "3                      246.0                     268.5   \n",
            "4                      269.0                     265.0   \n",
            "\n",
            "   Tasa_Enfermedad_Hombre_%  Tasa_Enfermedad_Mujer_%  \n",
            "0                      44.4                      0.0  \n",
            "1                      38.5                      5.3  \n",
            "2                      55.7                     30.3  \n",
            "3                      74.5                     41.2  \n",
            "4                      80.0                      0.0  \n"
          ]
        }
      ]
    },
    {
      "cell_type": "markdown",
      "source": [
        "# 5. PASO 5: VISUALIZACIÓN DE DATOS"
      ],
      "metadata": {
        "id": "3vt38fZ8ZE0k"
      }
    },
    {
      "cell_type": "code",
      "source": [
        "plt.figure(figsize=(10, 6))\n",
        "# Histograma\n",
        "plt.hist(df_clean['age'], bins=12, color='#3498db', edgecolor='black', alpha=0.8)\n",
        "\n",
        "plt.title('Distribución de la Edad de los Pacientes', fontsize=16, fontweight='bold')\n",
        "plt.xlabel('Edad (años)', fontsize=12)\n",
        "plt.ylabel('Frecuencia', fontsize=12)\n",
        "plt.grid(axis='y', alpha=0.5)\n",
        "\n",
        "# Añadir la media y la mediana\n",
        "mean_age = df_clean['age'].mean()\n",
        "median_age = df_clean['age'].median()\n",
        "plt.axvline(mean_age, color='red', linestyle='dashed', linewidth=1, label=f'Media: {mean_age:.1f}')\n",
        "plt.axvline(median_age, color='purple', linestyle='dashdot', linewidth=1, label=f'Mediana: {median_age:.1f}')\n",
        "plt.legend()\n",
        "plt.show()"
      ],
      "metadata": {
        "colab": {
          "base_uri": "https://localhost:8080/",
          "height": 411
        },
        "id": "VXYaHlTRDVvM",
        "outputId": "a99fdd00-2b2f-4a65-98a6-e8f835666cab"
      },
      "execution_count": 9,
      "outputs": [
        {
          "output_type": "display_data",
          "data": {
            "text/plain": [
              "<Figure size 1000x600 with 1 Axes>"
            ],
            "image/png": "[encoded data removed]"
          },
          "metadata": {}
        }
      ]
    },
    {
      "cell_type": "code",
      "source": [
        "chol_0 = df_clean[df_clean['heart_disease'] == 0]['chol']\n",
        "chol_1 = df_clean[df_clean['heart_disease'] == 1]['chol']\n",
        "\n",
        "plt.figure(figsize=(8, 6))\n",
        "# Boxplot\n",
        "plt.boxplot([chol_0, chol_1],\n",
        "            labels=['Sano (0)', 'Enfermo (1)'],\n",
        "            patch_artist=True,\n",
        "            boxprops=dict(facecolor='#f1c40f', color='black'),\n",
        "            medianprops=dict(color='red', linewidth=2))\n",
        "\n",
        "plt.title('Colesterol (chol) vs. Enfermedad Cardíaca', fontsize=16, fontweight='bold')\n",
        "plt.xlabel('Enfermedad Cardíaca', fontsize=12)\n",
        "plt.ylabel('Colesterol Sérico (mg/dl)', fontsize=12)\n",
        "plt.grid(axis='y', alpha=0.5)\n",
        "plt.show()"
      ],
      "metadata": {
        "colab": {
          "base_uri": "https://localhost:8080/",
          "height": 493
        },
        "id": "YXu4qxlgEGPV",
        "outputId": "0a60492a-8ce0-418a-8d42-6ed040479646"
      },
      "execution_count": 10,
      "outputs": [
        {
          "output_type": "display_data",
          "data": {
            "text/plain": [
              "<Figure size 800x600 with 1 Axes>"
            ],
            "image/png": "[encoded data removed]"
          },
          "metadata": {}
        }
      ]
    },
    {
      "cell_type": "code",
      "source": [
        "# 1. Calcular las tasas (proporciones) de enfermedad por sexo\n",
        "disease_rate_by_sex = df_clean.groupby('sex')['heart_disease'].mean().map(lambda x: x * 100)\n",
        "sex_labels = disease_rate_by_sex.index.map(sex_mapping)\n",
        "rate_values = disease_rate_by_sex.values\n",
        "\n",
        "plt.figure(figsize=(7, 6))\n",
        "\n",
        "# Gráfico de barras\n",
        "bars = plt.bar(sex_labels, rate_values, color=['#e74c3c', '#3498db'])\n",
        "\n",
        "plt.title('Tasa de Prevalencia de Enfermedad Cardíaca por Sexo', fontsize=16, fontweight='bold')\n",
        "plt.xlabel('Sexo', fontsize=12)\n",
        "plt.ylabel('Tasa de Enfermedad (%)', fontsize=12)\n",
        "plt.ylim(0, 100)\n",
        "\n",
        "# Añadir etiquetas de valor\n",
        "for bar in bars:\n",
        "    yval = bar.get_height()\n",
        "    plt.text(bar.get_x() + bar.get_width()/2, yval + 1, f'{yval:.1f}%', ha='center', va='bottom', fontsize=10)\n",
        "\n",
        "plt.show()"
      ],
      "metadata": {
        "colab": {
          "base_uri": "https://localhost:8080/",
          "height": 492
        },
        "id": "uw28AdmtJ3KK",
        "outputId": "89a8624e-4d55-4755-f237-31f9ee507fe5"
      },
      "execution_count": 14,
      "outputs": [
        {
          "output_type": "display_data",
          "data": {
            "text/plain": [
              "<Figure size 700x600 with 1 Axes>"
            ],
            "image/png": "[encoded data removed]"
          },
          "metadata": {}
        }
      ]
    },
    {
      "cell_type": "code",
      "source": [
        "trestbps_0 = df_clean[df_clean['heart_disease'] == 0]['trestbps']\n",
        "trestbps_1 = df_clean[df_clean['heart_disease'] == 1]['trestbps']\n",
        "\n",
        "plt.figure(figsize=(10, 6))\n",
        "\n",
        "# Histograma superpuesto para comparar las distribuciones\n",
        "plt.hist(trestbps_0, bins=10, alpha=0.6, label='Sano (0)', color='#2ecc71', edgecolor='black')\n",
        "plt.hist(trestbps_1, bins=10, alpha=0.6, label='Enfermo (1)', color='#e74c3c', edgecolor='black')\n",
        "\n",
        "plt.title('Distribución de Presión Arterial en Reposo por Estado de Enfermedad', fontsize=16, fontweight='bold')\n",
        "plt.xlabel('Presión Arterial en Reposo (trestbps)', fontsize=12)\n",
        "plt.ylabel('Frecuencia', fontsize=12)\n",
        "plt.legend()\n",
        "plt.grid(axis='y', alpha=0.5)\n",
        "plt.show()"
      ],
      "metadata": {
        "colab": {
          "base_uri": "https://localhost:8080/",
          "height": 390
        },
        "id": "jW374DyTLeT2",
        "outputId": "503c20a8-b58b-4156-aa7d-56bba4404ec9"
      },
      "execution_count": 15,
      "outputs": [
        {
          "output_type": "display_data",
          "data": {
            "text/plain": [
              "<Figure size 1000x600 with 1 Axes>"
            ],
            "image/png": "[encoded data removed]"
          },
          "metadata": {}
        }
      ]
    },
    {
      "cell_type": "markdown",
      "source": [
        "# CONCLUSIONES Y REFLEXIONES FINALES"
      ],
      "metadata": {
        "id": "Br4IDKooZNEx"
      }
    },
    {
      "cell_type": "markdown",
      "source": [
        "# Conclusiones del Análisis de Enfermedad Cardíaca\n",
        "\n",
        "Basado en el análisis exploratorio y las visualizaciones con Matplotlib, se extraen las siguientes conclusiones clave sobre la población estudiada:\n",
        "\n",
        "## Análisis Basado en los Datos y Gráficas\n",
        "\n",
        "* **Grupo Crítico de Edad:** La tabla consolidada pivotada reveló que los grupos **Adulto Mayor (60-69 años)** y **Mediana Edad (40-49 años)** concentran la mayor cantidad de pacientes y, en el caso de los hombres, presentan las tasas de enfermedad más altas (74.5% y 38.5% respectivamente), indicando la ventana de riesgo principal.\n",
        "\n",
        "* **Factor Sexo:** La **Tasa de Enfermedad es significativamente mayor en hombres** que en mujeres en casi todos los grupos de edad, lo que lo convierte en el factor de riesgo demográfico más notable en esta muestra. Por ejemplo, los hombres de 70+ años tienen una tasa del 80.0%, mientras que las mujeres del mismo grupo tienen 0.0%.\n",
        "\n",
        "* **Factores Clínicos:**\n",
        "    * **Colesterol:** El Boxplot demostró que el colesterol sérico no es un factor discriminador *promedio*, ya que la mediana es similar para pacientes sanos y enfermos. Esto implica que las intervenciones no deben centrarse **únicamente** en la reducción de colesterol, sino en un **enfoque multivariado**.\n",
        "    * **Presión Arterial (`trestbps`):** El análisis de distribución confirma que la **hipertensión es un factor de riesgo** que está más presente en la población con enfermedad cardíaca (histograma desplazado a la derecha).\n",
        "\n",
        "## Reflexión sobre Decisiones y Políticas de Salud\n",
        "\n",
        "Las conclusiones del análisis sugieren las siguientes estrategias clínicas y de salud pública:\n",
        "\n",
        "1.  **Política de Tamizaje (Screening):** Los esfuerzos de detección temprana deben ser obligatorios y **más intensivos para hombres a partir de los 40 años**, especialmente si reportan dolor de pecho atípico (`cp`) o tienen antecedentes familiares de enfermedad cardíaca.\n",
        "\n",
        "2.  **Gestión de Riesgo Prioritaria:** Se debe promover activamente el control de la **Presión Arterial** en todos los grupos de edad, ya que su distribución sugiere una correlación más clara con la enfermedad que el colesterol por sí mismo.\n",
        "\n",
        "3.  **Investigación de Género:** Se requiere más investigación para entender los **factores de protección** que resultan en una tasa de enfermedad tan baja en subgrupos de mujeres (e.g., <40 y 70+). Estos conocimientos podrían ser clave para informar estrategias preventivas y terapéuticas aplicables a la población masculina."
      ],
      "metadata": {
        "id": "b22TVnTRNHkx"
      }
    },
    {
      "cell_type": "markdown",
      "source": [
        "#EJERCICIO DE BONIFICACIÓN\n"
      ],
      "metadata": {
        "id": "vsONq9yien1H"
      }
    },
    {
      "cell_type": "code",
      "source": [
        "# Características de mi personaje\n",
        "\n",
        "vidas = 3\n",
        "tiene_espada = True\n",
        "energia = 60\n",
        "nivel = 36\n",
        "\n",
        "if vidas > 0 and tiene_espada and energia >= 70 and nivel > 35:\n",
        "  print('¡Puedes pelear contra el dragón! 🐉')\n",
        "elif vidas > 0 and tiene_espada and energia >= 70 and nivel <= 35:\n",
        "  print('Puedes pelear y tienes energía, pero debes subir de nivel antes de pelear contra el dragón.')\n",
        "elif vidas > 0 and tiene_espada and energia < 70 and nivel > 35:\n",
        "  print('Puedes pelear y tienes el nivel para pelear contra el dragón, pero debes descansar.')\n",
        "elif vidas > 0 and tiene_espada and energia < 70 and nivel < 35:\n",
        "  print('Debes recuperarte y subir de nivel antes de pelear contra el dragón.')\n",
        "else:\n",
        "  print('No puedes pelear!')"
      ],
      "metadata": {
        "colab": {
          "base_uri": "https://localhost:8080/"
        },
        "id": "zUbmYi8Xhjzu",
        "outputId": "6a6786ea-18be-41c8-8887-f3b22acf155b"
      },
      "execution_count": 21,
      "outputs": [
        {
          "output_type": "stream",
          "name": "stdout",
          "text": [
            "Puedes pelear y tienes el nivel para pelear contra el dragón, pero debes descansar.\n"
          ]
        }
      ]
    },
    {
      "cell_type": "code",
      "source": [
        "# Características de mi personaje\n",
        "\n",
        "vidas = 3\n",
        "tiene_espada = True\n",
        "energia = 60 # Valor para probar el caso 'Recoge una poción'\n",
        "nivel = 36\n",
        "\n",
        "# =======================================================================\n",
        "# RETO RÁPIDO: Nuevas verificaciones de estado (Baja energía y Sin vidas)\n",
        "# =======================================================================\n",
        "\n",
        "if vidas == 0:\n",
        "    print('💀 Has perdido todas tus vidas. Fin del juego.')\n",
        "elif 30 <= energia <= 60:\n",
        "    print('✨ Recoge una poción (Tu energía está entre 30 y 60).')\n",
        "\n",
        "# =======================================================================\n",
        "# Lógica de la pelea contra el dragón (Solo si no perdió vidas o tomó poción)\n",
        "# =======================================================================\n",
        "\n",
        "elif vidas > 0 and tiene_espada and energia >= 70 and nivel > 35:\n",
        "    print('¡Puedes pelear contra el dragón! 🐉')\n",
        "elif vidas > 0 and tiene_espada and energia >= 70 and nivel <= 35:\n",
        "    print('Puedes pelear y tienes energía, pero debes subir de nivel antes de pelear contra el dragón.')\n",
        "elif vidas > 0 and tiene_espada and energia < 70 and nivel > 35:\n",
        "    print('Puedes pelear y tienes el nivel para pelear contra el dragón, pero debes descansar.')\n",
        "elif vidas > 0 and tiene_espada and energia < 70 and nivel < 35:\n",
        "    print('Debes recuperarte y subir de nivel antes de pelear contra el dragón.')\n",
        "else:\n",
        "    print('No puedes pelear! (Alguna condición básica no se cumple)')"
      ],
      "metadata": {
        "colab": {
          "base_uri": "https://localhost:8080/"
        },
        "id": "rQ__vOvni3XC",
        "outputId": "c71219c6-e742-408e-9d60-623201f543b4"
      },
      "execution_count": 22,
      "outputs": [
        {
          "output_type": "stream",
          "name": "stdout",
          "text": [
            "✨ Recoge una poción (Tu energía está entre 30 y 60).\n"
          ]
        }
      ]
    },
    {
      "cell_type": "code",
      "source": [
        "# EJERCICIO BONIFICACIÓN: Manejo de casos que no tienen sentido.\n",
        "\n",
        "vidas = 3\n",
        "tiene_espada = False # ¡Cambiamos a False para la bonificación!\n",
        "energia = 90\n",
        "nivel = 40\n",
        "\n",
        "# =======================================================================\n",
        "# Manejo de Casos Ilógicos/Críticos\n",
        "# =======================================================================\n",
        "\n",
        "if vidas <= 0:\n",
        "    # Si las vidas son 0 o menos, el juego termina inmediatamente.\n",
        "    print('💀 GAME OVER: Has perdido todas tus vidas.')\n",
        "\n",
        "elif not tiene_espada and nivel >= 35:\n",
        "    # Un personaje de alto nivel debe tener un arma. Esta condición evita el bug.\n",
        "    print('🚫 ERROR CRÍTICO DE NIVEL: Tienes un nivel muy alto, pero ¿dónde está tu espada? ¡Búscala antes de pelear!')\n",
        "\n",
        "# =======================================================================\n",
        "# Lógica de la Pelea\n",
        "# =======================================================================\n",
        "\n",
        "elif energia < 30 and vidas > 0:\n",
        "    # Priorizamos la necesidad de curación\n",
        "    print('🚨 PELIGRO: Tu energía es críticamente baja (<30). ¡Huye y cura!')\n",
        "\n",
        "elif 30 <= energia <= 60:\n",
        "    # El reto de la poción\n",
        "    print('✨ Recoge una poción (Tu energía está entre 30 y 60).')\n",
        "\n",
        "elif vidas > 0 and tiene_espada and energia >= 70 and nivel > 35:\n",
        "    print('¡Puedes pelear contra el dragón! 🐉')\n",
        "\n",
        "# ... (El resto de la lógica de pelea se mantiene igual, pero es menos probable que se ejecute si la espada es False)\n",
        "\n",
        "else:\n",
        "    # Manejo general para cualquier otra combinación que impida la pelea.\n",
        "    print('No puedes pelear en este momento. Revisa tu equipo o estado.')"
      ],
      "metadata": {
        "colab": {
          "base_uri": "https://localhost:8080/"
        },
        "id": "ilV0pwFEjG-L",
        "outputId": "10107c04-62dd-42f3-e198-59ae7efac6db"
      },
      "execution_count": 26,
      "outputs": [
        {
          "output_type": "stream",
          "name": "stdout",
          "text": [
            "🚫 ERROR CRÍTICO DE NIVEL: Tienes un nivel muy alto, pero ¿dónde está tu espada? ¡Búscala antes de pelear!\n"
          ]
        }
      ]
    },
    {
      "cell_type": "code",
      "source": [
        "# =======================================================================\n",
        "# Entrada de datos del personaje (Usando input())\n",
        "# =======================================================================\n",
        "\n",
        "print(\"--- ¡PREPÁRATE PARA LA MISIÓN! ---\")\n",
        "\n",
        "# Pedimos las vidas (debe ser un número entero)\n",
        "vidas_str = input(\"🛡️ ¿Cuántas vidas tienes? \")\n",
        "# Convertimos la entrada a número entero (int)\n",
        "try:\n",
        "    vidas = int(vidas_str)\n",
        "except ValueError:\n",
        "    print(\"Error: Vidas debe ser un número entero. Usando vidas=0 por defecto.\")\n",
        "    vidas = 0\n",
        "\n",
        "# Pedimos si tiene espada (True/False)\n",
        "tiene_espada_input = input(\"⚔️ ¿Tienes la espada legendaria? (Sí/No): \").lower()\n",
        "tiene_espada = (tiene_espada_input == 'sí' or tiene_espada_input == 'si')\n",
        "\n",
        "# Pedimos la energía (debe ser un número entero)\n",
        "energia_str = input(\"⚡ ¿Cuánta energía tienes (0-100)? \")\n",
        "try:\n",
        "    energia = int(energia_str)\n",
        "except ValueError:\n",
        "    print(\"Error: Energía debe ser un número entero. Usando energia=0 por defecto.\")\n",
        "    energia = 0\n",
        "\n",
        "# Pedimos el nivel (debe ser un número entero)\n",
        "nivel_str = input(\"🌟 ¿Cuál es tu nivel actual? \")\n",
        "try:\n",
        "    nivel = int(nivel_str)\n",
        "except ValueError:\n",
        "    print(\"Error: Nivel debe ser un número entero. Usando nivel=0 por defecto.\")\n",
        "    nivel = 0\n",
        "\n",
        "# =======================================================================\n",
        "# Lógica del Juego (El mismo código IF/ELIF anterior)\n",
        "# =======================================================================\n",
        "\n",
        "print(\"\\n--- EVALUANDO ESTADO PARA EL DRAGÓN ---\")\n",
        "\n",
        "# Verificación crítica: Sin vidas o sin espada (Bonificación)\n",
        "if vidas <= 0:\n",
        "    print('💀 GAME OVER: Has perdido todas tus vidas.')\n",
        "\n",
        "# Bonificación: Lógica ilógica - Nivel alto sin equipo\n",
        "elif not tiene_espada and nivel >= 35:\n",
        "    print('🚫 ERROR CRÍTICO DE LÓGICA: Tienes un nivel muy alto, pero ¿dónde está tu espada? ¡Búscala antes de pelear!')\n",
        "\n",
        "# Reto: Energía Crítica (<30)\n",
        "elif energia < 30 and vidas > 0:\n",
        "    print('🚨 PELIGRO: Tu energía es críticamente baja (<30). ¡Huye y cura!')\n",
        "\n",
        "# Reto: Recoger Poción (30 a 60)\n",
        "elif 30 <= energia <= 60:\n",
        "    print('✨ Recoge una poción (Tu energía está entre 30 y 60).')\n",
        "\n",
        "# Lógica de la Pelea: Condiciones perfectas\n",
        "elif vidas > 0 and tiene_espada and energia >= 70 and nivel > 35:\n",
        "    print('¡Puedes pelear contra el dragón! 🐉')\n",
        "\n",
        "# Lógica de la Pelea: Falta nivel\n",
        "elif vidas > 0 and tiene_espada and energia >= 70 and nivel <= 35:\n",
        "    print('Puedes pelear y tienes energía, pero debes subir de nivel antes de pelear contra el dragón.')\n",
        "\n",
        "# Lógica de la Pelea: Falta energía (descanso)\n",
        "elif vidas > 0 and tiene_espada and energia < 70 and nivel > 35:\n",
        "    print('Puedes pelear y tienes el nivel para pelear contra el dragón, pero debes descansar.')\n",
        "\n",
        "# Lógica de la Pelea: Falta todo\n",
        "elif vidas > 0 and tiene_espada and energia < 70 and nivel < 35:\n",
        "    print('Debes recuperarte y subir de nivel antes de pelear contra el dragón.')\n",
        "\n",
        "else:\n",
        "    print('No puedes pelear en este momento. Revisa tu equipo o estado.')"
      ],
      "metadata": {
        "colab": {
          "base_uri": "https://localhost:8080/"
        },
        "id": "Zk3QuNYfj4qT",
        "outputId": "d10a3ad9-c0ac-49cd-9b5c-a1bbe494a147"
      },
      "execution_count": 29,
      "outputs": [
        {
          "output_type": "stream",
          "name": "stdout",
          "text": [
            "--- ¡PREPÁRATE PARA LA MISIÓN! ---\n",
            "🛡️ ¿Cuántas vidas tienes? 3\n",
            "⚔️ ¿Tienes la espada legendaria? (Sí/No): si\n",
            "⚡ ¿Cuánta energía tienes (0-100)? 90\n",
            "🌟 ¿Cuál es tu nivel actual? 45\n",
            "\n",
            "--- EVALUANDO ESTADO PARA EL DRAGÓN ---\n",
            "¡Puedes pelear contra el dragón! 🐉\n"
          ]
        }
      ]
    },
    {
      "cell_type": "code",
      "source": [
        "# =======================================================================\n",
        "# 1. ENTRADA DE DATOS DEL PERSONAJE\n",
        "# =======================================================================\n",
        "\n",
        "print(\"--- ¡PREPÁRATE PARA LA MISIÓN! ---\")\n",
        "\n",
        "# Pedimos las variables (con manejo de errores para que no falle el programa)\n",
        "try:\n",
        "    vidas_str = input(\"🛡️ ¿Cuántas vidas tienes? \")\n",
        "    vidas = int(vidas_str)\n",
        "\n",
        "    energia_str = input(\"⚡ ¿Cuánta energía tienes (0-100)? \")\n",
        "    energia = int(energia_str)\n",
        "\n",
        "    nivel_str = input(\"🌟 ¿Cuál es tu nivel actual? \")\n",
        "    nivel = int(nivel_str)\n",
        "\n",
        "except ValueError:\n",
        "    print(\"Error: Las vidas, energía y nivel deben ser números enteros. Usando 0 por defecto.\")\n",
        "    vidas = 0\n",
        "    energia = 0\n",
        "    nivel = 0\n",
        "\n",
        "# Pedimos si tiene espada (True/False)\n",
        "tiene_espada_input = input(\"⚔️ ¿Tienes la espada legendaria? (Sí/No): \").lower()\n",
        "tiene_espada = (tiene_espada_input == 'sí' or tiene_espada_input == 'si')\n",
        "\n",
        "\n",
        "# =======================================================================\n",
        "# 2. LÓGICA ROBUSTA Y CHEQUEOS DE ESTADO (IF/ELIF con Anidamiento)\n",
        "# =======================================================================\n",
        "\n",
        "print(\"\\n--- EVALUANDO ESTADO PARA EL DRAGÓN ---\")\n",
        "\n",
        "# A. Chequeo de Vulnerabilidad Crítica (Prioridad 1)\n",
        "if vidas <= 0:\n",
        "    print('💀 GAME OVER: Has perdido todas tus vidas. No se evalúan otros requisitos.')\n",
        "\n",
        "# B. Chequeo de Equipo Crítico (Prioridad 2)\n",
        "elif not tiene_espada:\n",
        "    print('🛡️ ¡Alerta! No tienes la espada. Equípate antes de enfrentarte al dragón.')\n",
        "\n",
        "# C. Verificación de Estados de Curación (Prioridad 3)\n",
        "elif energia < 30:\n",
        "    # Si la energía es crítica (<30)\n",
        "    print('🚨 PELIGRO: Tu energía es críticamente baja. ¡Huye y cura de inmediato!')\n",
        "\n",
        "elif 30 <= energia <= 60:\n",
        "    # ✨ Reto de la Poción Implementado aquí ✨\n",
        "    print('✨ **Recoge una poción** (Tu energía está entre 30 y 60).')\n",
        "\n",
        "# D. Lógica de Requisitos de Pelea (Anidamiento por Nivel)\n",
        "# Si llegamos aquí, sabemos que vidas > 0, tiene_espada=True, y energia > 60.\n",
        "\n",
        "elif nivel <= 35:\n",
        "    # El personaje tiene energía > 60, pero falta nivel\n",
        "    print('Puedes pelear y tienes energía, pero **debes subir de nivel** antes de pelear contra el dragón.')\n",
        "\n",
        "elif nivel > 35:\n",
        "    # El personaje tiene nivel > 35 y energía > 60. Es la condición de victoria.\n",
        "    if energia >= 70:\n",
        "        print('¡Puedes pelear contra el dragón! 🐉')\n",
        "    else:\n",
        "        # Esta condición se activa si la energía está entre 61 y 69 (ya que <60 fue filtrado arriba)\n",
        "        print('Puedes pelear y tienes el nivel para pelear contra el dragón, pero debes descansar.')\n",
        "\n",
        "else:\n",
        "    # Para cualquier caso que la lógica anterior no haya capturado (improbable en este diseño)\n",
        "    print('No puedes pelear en este momento. Revisa tu equipo o estado.')"
      ],
      "metadata": {
        "colab": {
          "base_uri": "https://localhost:8080/"
        },
        "id": "Fw8-k71soMD2",
        "outputId": "6be25718-b30f-493b-c2b5-08e850878327"
      },
      "execution_count": 32,
      "outputs": [
        {
          "output_type": "stream",
          "name": "stdout",
          "text": [
            "--- ¡PREPÁRATE PARA LA MISIÓN! ---\n",
            "🛡️ ¿Cuántas vidas tienes? 4\n",
            "⚡ ¿Cuánta energía tienes (0-100)? 90\n",
            "🌟 ¿Cuál es tu nivel actual? 16\n",
            "⚔️ ¿Tienes la espada legendaria? (Sí/No): si\n",
            "\n",
            "--- EVALUANDO ESTADO PARA EL DRAGÓN ---\n",
            "Puedes pelear y tienes energía, pero **debes subir de nivel** antes de pelear contra el dragón.\n"
          ]
        }
      ]
    }
  ]
}